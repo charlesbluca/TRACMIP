{
 "cells": [
  {
   "cell_type": "code",
   "execution_count": 1,
   "metadata": {},
   "outputs": [],
   "source": [
    "import xarray as xr\n",
    "import plotdata as pd\n",
    "import numpy as np\n",
    "import matplotlib.pyplot as plt\n",
    "from matplotlib.patches import Rectangle"
   ]
  },
  {
   "cell_type": "code",
   "execution_count": 2,
   "metadata": {},
   "outputs": [],
   "source": [
    "# pull data from files\n",
    "try:\n",
    "    ds            = xr.open_dataset('nc/master')\n",
    "    ds_fixed      = ds.isel(model=[1, 2, 3, 4, 5, 8, 9, 12])\n",
    "    ds_plev       = xr.open_dataset('nc/master_plev')\n",
    "    ds_plev_fixed = ds_plev.isel(model=[1, 2, 3, 4, 5, 8, 9, 12])\n",
    "except FileNotFoundError:\n",
    "    !python loaddata.py"
   ]
  },
  {
   "cell_type": "code",
   "execution_count": null,
   "metadata": {},
   "outputs": [],
   "source": [
    "# define model median data to plot\n",
    "var  = 'pr'\n",
    "tm   = ds_fixed[var].mean(dim='time')\n",
    "anom = tm.sel(exp='LandControl') - tm.sel(exp='AquaControl')\n",
    "data = anom.median(dim='model')\n",
    "\n",
    "ax = plt.subplot(1,1,1)\n",
    "ax.add_patch(Rectangle((0, -30), 45, 60, alpha=1, facecolor='none',\n",
    "                                   edgecolor='black', linewidth=1))\n",
    "ax.set_title('Wind speed anomalies')\n",
    "ax.set_xticks([-120, -60, 0, 60, 120])\n",
    "ax.xaxis.set_ticklabels(['120$\\degree$W', '60$\\degree$', '0$\\degree$', '60$\\degree$', '120$\\degree$E'])\n",
    "ax.set_yticks([-60, -30, 0, 30, 60])\n",
    "ax.yaxis.set_ticklabels(['60$\\degree$S', '30$\\degree$', '0$\\degree$', '30$\\degree$', '60$\\degree$N'])\n",
    "c = plt.contourf(ds_fixed.lon, sin(ds_fixed.lat), data, levels=np.linspace(-3,3,13), cmap='RdBu')\n",
    "cbar = plt.colorbar(c)\n",
    "cbar.set_label('$\\Delta$m/s')\n",
    "\n",
    "plt.tight_layout()\n",
    "\n",
    "plt.savefig('figs/fig', dpi=1200)"
   ]
  },
  {
   "cell_type": "code",
   "execution_count": null,
   "metadata": {},
   "outputs": [],
   "source": [
    "data = anom.isel(model=[0,1,2]).median(dim='model')\n",
    "\n",
    "ax = plt.subplot(1,2,1)\n",
    "ax.add_patch(Rectangle((0, -30), 45, 60, alpha=1, facecolor='none',\n",
    "                                   edgecolor='black', linewidth=1))\n",
    "ax.set_title('Albedo anomalies: CAM3, CAM4, CNRM')\n",
    "ax.set_xticks([-120, -60, 0, 60, 120])\n",
    "ax.xaxis.set_ticklabels(['120$\\degree$W', '60$\\degree$', '0$\\degree$',\n",
    "                         '60$\\degree$', '120$\\degree$E'])\n",
    "ax.set_yticks([-60, -30, 0, 30, 60])\n",
    "ax.yaxis.set_ticklabels(['60$\\degree$S', '30$\\degree$', '0$\\degree$',\n",
    "                         '30$\\degree$', '60$\\degree$N'])\n",
    "c = plt.contourf(anom.lon, anom.lat, data, levels=np.linspace(-2.4e-8,2.4e-8,13), extend='both', cmap='RdBu')\n",
    "cbar = plt.colorbar(c)\n",
    "cbar.set_label('$\\Delta$%')\n",
    "\n",
    "data = anom.isel(model=[3,4,5,6]).median(dim='model')\n",
    "\n",
    "ax = plt.subplot(1,2,2)\n",
    "ax.add_patch(Rectangle((0, -30), 45, 60, alpha=1, facecolor='none',\n",
    "                                   edgecolor='black', linewidth=1))\n",
    "ax.set_title('Albedo anomalies: ECHAM-6.1, MIROC5, MPAS, NorESM2')\n",
    "ax.set_xticks([-120, -60, 0, 60, 120])\n",
    "ax.xaxis.set_ticklabels(['120$\\degree$W', '60$\\degree$', '0$\\degree$',\n",
    "                         '60$\\degree$', '120$\\degree$E'])\n",
    "ax.set_yticks([-60, -30, 0, 30, 60])\n",
    "ax.yaxis.set_ticklabels(['60$\\degree$S', '30$\\degree$', '0$\\degree$',\n",
    "                         '30$\\degree$', '60$\\degree$N'])\n",
    "c = plt.contourf(anom.lon, anom.lat, data, levels=np.linspace(-.0012,.0012,13), extend='both', cmap='RdBu')\n",
    "cbar = plt.colorbar(c)\n",
    "cbar.set_label('$\\Delta$%')\n",
    "\n",
    "fig = plt.gcf()\n",
    "fig.set_size_inches(12.8, 4.8)\n",
    "\n",
    "plt.tight_layout()\n",
    "\n",
    "plt.savefig('figs/fig', dpi=1200)"
   ]
  },
  {
   "cell_type": "code",
   "execution_count": null,
   "metadata": {},
   "outputs": [],
   "source": []
  }
 ],
 "metadata": {
  "kernelspec": {
   "display_name": "Python 3",
   "language": "python",
   "name": "python3"
  },
  "language_info": {
   "codemirror_mode": {
    "name": "ipython",
    "version": 3
   },
   "file_extension": ".py",
   "mimetype": "text/x-python",
   "name": "python",
   "nbconvert_exporter": "python",
   "pygments_lexer": "ipython3",
   "version": "3.6.5"
  }
 },
 "nbformat": 4,
 "nbformat_minor": 2
}
