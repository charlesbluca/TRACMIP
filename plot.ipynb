{
 "cells": [
  {
   "cell_type": "code",
   "execution_count": null,
   "metadata": {},
   "outputs": [],
   "source": [
    "import xarray as xr\n",
    "import plotdata as pd"
   ]
  },
  {
   "cell_type": "code",
   "execution_count": null,
   "metadata": {},
   "outputs": [],
   "source": [
    "# pull data from files\n",
    "try:\n",
    "    ds = xr.open_dataset('nc/master')\n",
    "    ds_plev = xr.open_dataset('nc/master_plev')\n",
    "except FileNotFoundError:\n",
    "    !python loaddata.py"
   ]
  },
  {
   "cell_type": "code",
   "execution_count": null,
   "metadata": {},
   "outputs": [],
   "source": [
    "# get time mean for variable\n",
    "tm = ds.mean(dim='time', skipna=True)\n",
    "\n",
    "# operations on variables\n",
    "w = tm['pr']\n",
    "\n",
    "# calculate time mean anomalies\n",
    "z  = w.sel(exp='LandControl') - w.sel(exp='AquaControl')\n",
    "\n",
    "pd.contourmap_allexperiments(z)"
   ]
  },
  {
   "cell_type": "code",
   "execution_count": null,
   "metadata": {},
   "outputs": [],
   "source": [
    "pd.quivermap_allexperiments(5, anom=True, plotname='quiver_overlay')"
   ]
  },
  {
   "cell_type": "code",
   "execution_count": null,
   "metadata": {},
   "outputs": [],
   "source": [
    "# specify variable to plot\n",
    "var = 'hfss'\n",
    "\n",
    "# get time mean for variable\n",
    "tm = ds[var].mean(dim='time', skipna=True)\n",
    "\n",
    "# calculate time mean anomalies\n",
    "z  = tm.sel(exp='AquaControl')\n",
    "\n",
    "# plotting\n",
    "g = z.plot.contourf(col='model', col_wrap=3, robust=True, aspect=2, levels=15)\n",
    "for ax in g.axes.flat:\n",
    "    ax.add_patch(Rectangle((0, -30), 45, 60, alpha=1, facecolor='none',\n",
    "                           edgecolor='black', linewidth=1))"
   ]
  },
  {
   "cell_type": "code",
   "execution_count": null,
   "metadata": {},
   "outputs": [],
   "source": [
    "# specify variable to plot\n",
    "var = 'ts'\n",
    "\n",
    "# calculate monthly anomalies for variable\n",
    "w = ds[var].sel(exp='LandControl') - ds[var].sel(exp='AquaControl')\n",
    "\n",
    "# get zonal mean over land and ocean\n",
    "land = w.sel(lon=slice(0, 45)).mean(dim='lon', skipna=True)\n",
    "ocean = xr.concat([w.sel(lon=slice(-180, 0)), w.sel(lon=slice(45, 180))], dim='lon').mean(dim='lon', skipna=True)\n",
    "\n",
    "# plotting\n",
    "land.plot(col='model', col_wrap=3, robust=True, aspect=2)"
   ]
  },
  {
   "cell_type": "code",
   "execution_count": null,
   "metadata": {},
   "outputs": [],
   "source": [
    "# get wind data at 92500\n",
    "plev = 92500\n",
    "\n",
    "u = ds_plev['ua'].mean(dim='time', skipna=True).sel(plev=plev)\n",
    "v = ds_plev['va'].mean(dim='time', skipna=True).sel(plev=plev)\n",
    "\n",
    "# calculate anomalies\n",
    "u = u.sel(exp='LandControl') - u.sel(exp='AquaControl')\n",
    "v = v.sel(exp='LandControl') - v.sel(exp='AquaControl')\n",
    "\n",
    "# plotting\n",
    "plt.figure(figsize=(18, 20), dpi=80, facecolor='w', edgecolor='k')\n",
    "\n",
    "step = 6\n",
    "\n",
    "for i in range(12):\n",
    "    u_i = u.isel(model=i)\n",
    "    v_i = v.isel(model=i)\n",
    "    ax = plt.subplot(5, 3, i+1)\n",
    "    ax.add_patch(Rectangle((0, -30), 45, 60, alpha=1, facecolor='none',\n",
    "                           edgecolor='black', linewidth=1))\n",
    "    plt.quiver(u.lon[::step], u.lat[::step], u_i[::step, ::step], v_i[::step, ::step],\n",
    "               units='width', pivot='mid')\n",
    "\n",
    "plt.savefig('figs/quiver.pdf')"
   ]
  },
  {
   "cell_type": "code",
   "execution_count": null,
   "metadata": {},
   "outputs": [],
   "source": []
  }
 ],
 "metadata": {
  "kernelspec": {
   "display_name": "Python 3",
   "language": "python",
   "name": "python3"
  },
  "language_info": {
   "codemirror_mode": {
    "name": "ipython",
    "version": 3
   },
   "file_extension": ".py",
   "mimetype": "text/x-python",
   "name": "python",
   "nbconvert_exporter": "python",
   "pygments_lexer": "ipython3",
   "version": "3.6.5"
  }
 },
 "nbformat": 4,
 "nbformat_minor": 2
}
