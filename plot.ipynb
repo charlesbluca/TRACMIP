{
 "cells": [
  {
   "cell_type": "code",
   "execution_count": null,
   "metadata": {},
   "outputs": [],
   "source": [
    "import xarray as xr\n",
    "import plotdata as pd"
   ]
  },
  {
   "cell_type": "code",
   "execution_count": null,
   "metadata": {},
   "outputs": [],
   "source": [
    "# pull data from files\n",
    "try:\n",
    "    ds = xr.open_dataset('nc/master')\n",
    "    ds_fixed = ds.isel(model=[1, 2, 3, 5, 7, 8, 9, 12])\n",
    "    ds_plev = xr.open_dataset('nc/master_plev')\n",
    "    ds_plev_fixed = ds_plev.isel(model=[1, 2, 3, 5, 7, 8, 9, 12])\n",
    "except FileNotFoundError:\n",
    "    !python loaddata.py"
   ]
  },
  {
   "cell_type": "code",
   "execution_count": null,
   "metadata": {},
   "outputs": [],
   "source": [
    "# get zonal time mean for variable\n",
    "tm = ds_fixed.mean(dim=('time','lon'), skipna=True)\n",
    "\n",
    "# operations on variables\n",
    "w = (tm['rlut'] - tm['rldt']) + (tm['rsut'] - tm['rsdt'])\n",
    "u = tm['FLNS'] - tm['FSNS'] + tm['hfss'] + tm['hfls'] + (tm['snow'] * 3.337e5)\n",
    "\n",
    "# calculate time mean anomalies\n",
    "z  = w.sel(exp='AquaControl')\n",
    "\n",
    "# plot lat-lon time mean\n",
    "pd.plot_allmodels(z - y, box=False)"
   ]
  },
  {
   "cell_type": "code",
   "execution_count": null,
   "metadata": {},
   "outputs": [],
   "source": [
    "# get time mean for variable\n",
    "tm_plev = ds_plev_fixed.mean(dim='month', skipna=True).sel(plev=92500)\n",
    "\n",
    "# operations on variables\n",
    "p = tm_plev['ua']\n",
    "q = tm_plev['va']\n",
    "\n",
    "# calculate time mean anomalies\n",
    "u = p.sel(exp='LandControl') - p.sel(exp='AquaControl')\n",
    "v = q.sel(exp='LandControl') - q.sel(exp='AquaControl')\n",
    "\n",
    "# plot quivers\n",
    "pd.quivermap_allexperiments(u, v)"
   ]
  },
  {
   "cell_type": "code",
   "execution_count": null,
   "metadata": {},
   "outputs": [],
   "source": [
    "import matplotlib.pyplot as plt\n",
    "\n",
    "w = ds['pr']\n",
    "\n",
    "# operations on variables\n",
    "zm    = w.mean(dim='lon')\n",
    "land  = w.sel(lon=slice(0, 45)).mean(dim='lon')\n",
    "ocean = xr.concat([w.sel(lon=slice(-180, 0)),\n",
    "                   w.sel(lon=slice(45, 180))], dim='lon').mean(dim='lon')\n",
    "\n",
    "# calculate time mean anomalies\n",
    "z  = ocean.sel(exp='LandControl') - ocean.sel(exp='AquaControl')\n",
    "\n",
    "# plot Hovmoller diagrams\n",
    "pd.plot_allexperiments(z, '$W/m^2$', x='month', box=True)"
   ]
  },
  {
   "cell_type": "code",
   "execution_count": null,
   "metadata": {},
   "outputs": [],
   "source": [
    "# get time mean for variable\n",
    "tm = ds_fixed.mean(dim='month', skipna=True).median(dim='model').\n",
    "\n",
    "# calculate time mean anomalies\n",
    "z  = tm.sel(exp='LandControl') - tm.sel(exp='AquaControl')\n",
    "\n",
    "pd.plot_allvariables(z, box=False, levels=14)"
   ]
  },
  {
   "cell_type": "code",
   "execution_count": null,
   "metadata": {},
   "outputs": [],
   "source": [
    "import matplotlib.pyplot as plt\n",
    "import numpy as np\n",
    "from scipy.stats import linregress\n",
    "\n",
    "tm = ds_fixed.sel(lat=slice(-30,30),lon=slice(0,45)).mean(dim=('month','lat','lon'))\n",
    "\n",
    "p = (tm['rlus'] - tm['rlds']) + (tm['rsus'] - tm['rsds']) + (tm['hfls'] + tm['hfss'])\n",
    "q = tm['ts']\n",
    "\n",
    "# calculate time mean anomalies\n",
    "x = p.sel(exp='LandControl')\n",
    "y = q.sel(exp='LandControl')\n",
    "\n",
    "fig, ax = plt.subplots()\n",
    "for i, model in list(enumerate(x.model.values)):\n",
    "    ax.scatter(x[i], y[i], label=model)\n",
    "\n",
    "ax.plot(np.unique(x), np.poly1d(np.polyfit(x, y, 1))(np.unique(x)))\n",
    "ax.legend(loc='center left', bbox_to_anchor=(1, 0.5))\n",
    "ax.grid(True)\n",
    "\n",
    "linregress(x,y)[2]**2"
   ]
  },
  {
   "cell_type": "code",
   "execution_count": null,
   "metadata": {},
   "outputs": [],
   "source": [
    "import numpy as np\n",
    "import matplotlib.pyplot as plt\n",
    "\n",
    "c_north = [-6.8650e-6, 1.6743e-3, -1.4162e-1, 4.9755, -50.7586]\n",
    "c_south = [-1.7732e-5, -3.4685e-3, -2.3494e-1, -6.4824, -56.6094]\n",
    "\n",
    "p_north = np.poly1d(c_north)\n",
    "p_south = np.poly1d(c_south)\n",
    "\n",
    "\n",
    "x = ds.lat.values\n",
    "y = np.piecewise(x, [x <= 0, x >= 0], [lambda x: p_south(x), lambda x: p_north(x)])\n",
    "\n",
    "fig, ax = plt.subplots()\n",
    "ax.plot(x,y)"
   ]
  },
  {
   "cell_type": "code",
   "execution_count": null,
   "metadata": {},
   "outputs": [],
   "source": []
  }
 ],
 "metadata": {
  "kernelspec": {
   "display_name": "Python 3",
   "language": "python",
   "name": "python3"
  },
  "language_info": {
   "codemirror_mode": {
    "name": "ipython",
    "version": 3
   },
   "file_extension": ".py",
   "mimetype": "text/x-python",
   "name": "python",
   "nbconvert_exporter": "python",
   "pygments_lexer": "ipython3",
   "version": "3.6.5"
  }
 },
 "nbformat": 4,
 "nbformat_minor": 2
}
