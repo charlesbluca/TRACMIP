{
 "cells": [
  {
   "cell_type": "code",
   "execution_count": null,
   "metadata": {},
   "outputs": [],
   "source": [
    "import xarray as xr\n",
    "import times\n",
    "import loaddata_miami as ld"
   ]
  },
  {
   "cell_type": "code",
   "execution_count": null,
   "metadata": {},
   "outputs": [],
   "source": [
    "ds = xr.open_dataset('nc/cl')"
   ]
  },
  {
   "cell_type": "code",
   "execution_count": null,
   "metadata": {},
   "outputs": [],
   "source": [
    "low    = 1 - ((1 - ds.isel(plev=0)) *\n",
    "              (1 - ds.isel(plev=1)) * \n",
    "              (1 - ds.isel(plev=2)) * \n",
    "              (1 - ds.isel(plev=3)))\n",
    "\n",
    "middle = 1 - ((1 - ds.isel(plev=4)) *\n",
    "              (1 - ds.isel(plev=5)) * \n",
    "              (1 - ds.isel(plev=6)))\n",
    "\n",
    "high   = 1 - ((1 - ds.isel(plev=7)) *\n",
    "              (1 - ds.isel(plev=8)) * \n",
    "              (1 - ds.isel(plev=9)) *\n",
    "              (1 - ds.isel(plev=10)) *\n",
    "              (1 - ds.isel(plev=11)) *\n",
    "              (1 - ds.isel(plev=12)) *\n",
    "              (1 - ds.isel(plev=13)) *\n",
    "              (1 - ds.isel(plev=14)) *\n",
    "              (1 - ds.isel(plev=15)))"
   ]
  },
  {
   "cell_type": "code",
   "execution_count": null,
   "metadata": {},
   "outputs": [],
   "source": []
  }
 ],
 "metadata": {
  "kernelspec": {
   "display_name": "Python 3",
   "language": "python",
   "name": "python3"
  },
  "language_info": {
   "codemirror_mode": {
    "name": "ipython",
    "version": 3
   },
   "file_extension": ".py",
   "mimetype": "text/x-python",
   "name": "python",
   "nbconvert_exporter": "python",
   "pygments_lexer": "ipython3",
   "version": "3.6.5"
  }
 },
 "nbformat": 4,
 "nbformat_minor": 2
}
