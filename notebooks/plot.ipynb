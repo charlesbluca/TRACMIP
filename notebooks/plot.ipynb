{
 "cells": [
  {
   "cell_type": "code",
   "execution_count": null,
   "metadata": {},
   "outputs": [],
   "source": [
    "import xarray as xr\n",
    "import plotdata as pd"
   ]
  },
  {
   "cell_type": "code",
   "execution_count": null,
   "metadata": {},
   "outputs": [],
   "source": [
    "# pull data from files\n",
    "try:\n",
    "    ds = xr.open_dataset('nc/master')\n",
    "    ds_fixed = ds.isel(model=[1, 2, 3, 4, 5, 8, 9, 12])\n",
    "    ds_plev = xr.open_dataset('nc/master_plev')\n",
    "    ds_plev_fixed = ds_plev.isel(model=[1, 2, 3, 4, 5, 8, 9, 12])\n",
    "except FileNotFoundError:\n",
    "    !python loaddata.py"
   ]
  },
  {
   "cell_type": "code",
   "execution_count": null,
   "metadata": {},
   "outputs": [],
   "source": [
    "# get time mean for dataset\n",
    "tm = ds.mean(dim='time')"
   ]
  },
  {
   "cell_type": "code",
   "execution_count": null,
   "metadata": {},
   "outputs": [],
   "source": [
    "# operations on variables\n",
    "w = tm['rsus'] / tm['rsds']\n",
    "\n",
    "z = w.sel(exp='LandControl') - w.sel(exp='AquaControl')\n",
    "\n",
    "pd.plot_allmodels(z, box=False, levels=14)"
   ]
  },
  {
   "cell_type": "code",
   "execution_count": null,
   "metadata": {},
   "outputs": [],
   "source": [
    "# calculate time mean anomalies\n",
    "w = tm.median(dim='model')\n",
    "\n",
    "z  = w.sel(exp='LandControl') - w.sel(exp='AquaControl')\n",
    "\n",
    "var = ['hfls', 'hfss', 'rsus', 'rsuscs', 'rsds', 'rsdscs', 'rlus', 'rluscs', 'rlds', 'rldscs']\n",
    "\n",
    "pd.plot_allvariables(z, box=True, plotname='fluxes_median_complete.pdf', variables=var, levels=14)"
   ]
  },
  {
   "cell_type": "code",
   "execution_count": null,
   "metadata": {},
   "outputs": [],
   "source": [
    "# get time mean for plev dataset\n",
    "tm_plev = ds_plev_fixed.mean(dim='time', skipna=True).sel(plev=92500)"
   ]
  },
  {
   "cell_type": "code",
   "execution_count": null,
   "metadata": {},
   "outputs": [],
   "source": [
    "# operations on variables\n",
    "p = tm_plev['ua']\n",
    "q = tm_plev['va']\n",
    "\n",
    "# calculate time mean anomalies\n",
    "u = p.sel(exp='LandControl') - p.sel(exp='AquaControl')\n",
    "v = q.sel(exp='LandControl') - q.sel(exp='AquaControl')\n",
    "\n",
    "# plot quivers\n",
    "pd.quivermap_allexperiments(u, v)"
   ]
  },
  {
   "cell_type": "code",
   "execution_count": null,
   "metadata": {},
   "outputs": [],
   "source": [
    "# get zonal means for dataset\n",
    "zm    = ds.mean(dim='lon')\n",
    "land  = ds.sel(lon=slice(0, 45)).mean(dim='lon')\n",
    "ocean = xr.concat([ds.sel(lon=slice(-180, 0)),\n",
    "                   ds.sel(lon=slice(45, 180))], dim='lon').mean(dim='lon')"
   ]
  },
  {
   "cell_type": "code",
   "execution_count": null,
   "metadata": {},
   "outputs": [],
   "source": [
    "w = ocean['rsds']\n",
    "\n",
    "# calculate time mean anomalies\n",
    "z  = w.sel(exp='LandControl') - w.sel(exp='AquaControl')\n",
    "\n",
    "# plot Hovmoller diagrams\n",
    "pd.plot_allmodels(z, x='time', cmap='BrBG_r')"
   ]
  },
  {
   "cell_type": "code",
   "execution_count": 2,
   "metadata": {},
   "outputs": [
    {
     "data": {
      "text/plain": [
       "False"
      ]
     },
     "execution_count": 2,
     "metadata": {},
     "output_type": "execute_result"
    }
   ],
   "source": [
    "'F'.isupper()"
   ]
  },
  {
   "cell_type": "code",
   "execution_count": null,
   "metadata": {},
   "outputs": [],
   "source": []
  }
 ],
 "metadata": {
  "kernelspec": {
   "display_name": "Python 3",
   "language": "python",
   "name": "python3"
  },
  "language_info": {
   "codemirror_mode": {
    "name": "ipython",
    "version": 3
   },
   "file_extension": ".py",
   "mimetype": "text/x-python",
   "name": "python",
   "nbconvert_exporter": "python",
   "pygments_lexer": "ipython3",
   "version": "3.6.5"
  }
 },
 "nbformat": 4,
 "nbformat_minor": 2
}
